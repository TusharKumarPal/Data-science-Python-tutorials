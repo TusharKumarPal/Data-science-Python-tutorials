{
 "cells": [
  {
   "cell_type": "markdown",
   "metadata": {
    "deletable": true,
    "editable": true
   },
   "source": [
    "[Index](Index.ipynb) - [Back](Widget Basics.ipynb) - [Next](Widget Events.ipynb)"
   ]
  },
  {
   "cell_type": "markdown",
   "metadata": {
    "deletable": true,
    "editable": true
   },
   "source": [
    "# Widget List"
   ]
  },
  {
   "cell_type": "markdown",
   "metadata": {
    "deletable": true,
    "editable": true
   },
   "source": [
    "## Complete list"
   ]
  },
  {
   "cell_type": "markdown",
   "metadata": {
    "deletable": true,
    "editable": true,
    "slideshow": {
     "slide_type": "slide"
    }
   },
   "source": [
    "For a complete list of the GUI widgets available to you, you can list the registered widget types.  `Widget` and `DOMWidget`, not listed below, are base classes."
   ]
  },
  {
   "cell_type": "code",
   "execution_count": null,
   "metadata": {
    "collapsed": false,
    "deletable": true,
    "editable": true
   },
   "outputs": [],
   "source": [
    "import ipywidgets as widgets\n",
    "widgets.Widget.widget_types.values()"
   ]
  },
  {
   "cell_type": "markdown",
   "metadata": {
    "deletable": true,
    "editable": true,
    "slideshow": {
     "slide_type": "slide"
    }
   },
   "source": [
    "## Numeric widgets"
   ]
  },
  {
   "cell_type": "markdown",
   "metadata": {
    "deletable": true,
    "editable": true
   },
   "source": [
    "There are 8 widgets distributed with IPython that are designed to display numeric values.  Widgets exist for displaying integers and floats, both bounded and unbounded.  The integer widgets share a similar naming scheme to their floating point counterparts.  By replacing `Float` with `Int` in the widget name, you can find the Integer equivalent."
   ]
  },
  {
   "cell_type": "markdown",
   "metadata": {
    "deletable": true,
    "editable": true,
    "slideshow": {
     "slide_type": "slide"
    }
   },
   "source": [
    "### FloatSlider"
   ]
  },
  {
   "cell_type": "code",
   "execution_count": null,
   "metadata": {
    "collapsed": false,
    "deletable": true,
    "editable": true
   },
   "outputs": [],
   "source": [
    "widgets.FloatSlider(\n",
    "    value=7.5,\n",
    "    min=5.0,\n",
    "    max=10.0,\n",
    "    step=0.1,\n",
    "    description='Test:',\n",
    ")"
   ]
  },
  {
   "cell_type": "markdown",
   "metadata": {
    "deletable": true,
    "editable": true
   },
   "source": [
    "Sliders can also be **displayed vertically**."
   ]
  },
  {
   "cell_type": "code",
   "execution_count": null,
   "metadata": {
    "collapsed": false,
    "deletable": true,
    "editable": true
   },
   "outputs": [],
   "source": [
    "widgets.FloatSlider(\n",
    "    value=7.5,\n",
    "    min=5.0,\n",
    "    max=10.0,\n",
    "    step=0.1,\n",
    "    description='Test',\n",
    "    orientation='vertical',\n",
    "    readout_format='.3f'\n",
    ")"
   ]
  },
  {
   "cell_type": "markdown",
   "metadata": {
    "deletable": true,
    "editable": true,
    "slideshow": {
     "slide_type": "slide"
    }
   },
   "source": [
    "### FloatProgress"
   ]
  },
  {
   "cell_type": "code",
   "execution_count": null,
   "metadata": {
    "collapsed": false,
    "deletable": true,
    "editable": true
   },
   "outputs": [],
   "source": [
    "widgets.FloatProgress(\n",
    "    value=7.5,\n",
    "    min=5.0,\n",
    "    max=10.0,\n",
    "    step=0.1,\n",
    "    description='Loading:',\n",
    ")"
   ]
  },
  {
   "cell_type": "markdown",
   "metadata": {
    "deletable": true,
    "editable": true,
    "slideshow": {
     "slide_type": "slide"
    }
   },
   "source": [
    "### BoundedFloatText"
   ]
  },
  {
   "cell_type": "code",
   "execution_count": null,
   "metadata": {
    "collapsed": false,
    "deletable": true,
    "editable": true
   },
   "outputs": [],
   "source": [
    "widgets.BoundedFloatText(\n",
    "    value=7.5,\n",
    "    min=5.0,\n",
    "    max=10.0,\n",
    "    description='Text:',\n",
    ")"
   ]
  },
  {
   "cell_type": "markdown",
   "metadata": {
    "deletable": true,
    "editable": true,
    "slideshow": {
     "slide_type": "slide"
    }
   },
   "source": [
    "### FloatText"
   ]
  },
  {
   "cell_type": "code",
   "execution_count": null,
   "metadata": {
    "collapsed": false,
    "deletable": true,
    "editable": true
   },
   "outputs": [],
   "source": [
    "widgets.FloatText(\n",
    "    value=7.5,\n",
    "    description='Any:',\n",
    ")"
   ]
  },
  {
   "cell_type": "markdown",
   "metadata": {
    "deletable": true,
    "editable": true,
    "slideshow": {
     "slide_type": "slide"
    }
   },
   "source": [
    "## Boolean widgets"
   ]
  },
  {
   "cell_type": "markdown",
   "metadata": {
    "deletable": true,
    "editable": true
   },
   "source": [
    "There are three widgets that are designed to display a boolean value."
   ]
  },
  {
   "cell_type": "markdown",
   "metadata": {
    "deletable": true,
    "editable": true
   },
   "source": [
    "### ToggleButton"
   ]
  },
  {
   "cell_type": "code",
   "execution_count": null,
   "metadata": {
    "collapsed": false,
    "deletable": true,
    "editable": true
   },
   "outputs": [],
   "source": [
    "widgets.ToggleButton(\n",
    "    description='Click me',\n",
    "    value=False,\n",
    ")"
   ]
  },
  {
   "cell_type": "markdown",
   "metadata": {
    "deletable": true,
    "editable": true,
    "slideshow": {
     "slide_type": "slide"
    }
   },
   "source": [
    "### Checkbox"
   ]
  },
  {
   "cell_type": "code",
   "execution_count": null,
   "metadata": {
    "collapsed": false,
    "deletable": true,
    "editable": true
   },
   "outputs": [],
   "source": [
    "widgets.Checkbox(\n",
    "    description='Check me',\n",
    "    value=True,\n",
    ")"
   ]
  },
  {
   "cell_type": "markdown",
   "metadata": {
    "deletable": true,
    "editable": true
   },
   "source": [
    "### Valid\n",
    "\n",
    "The valid widget provides a read-only indicator."
   ]
  },
  {
   "cell_type": "code",
   "execution_count": null,
   "metadata": {
    "collapsed": false,
    "deletable": true,
    "editable": true
   },
   "outputs": [],
   "source": [
    "widgets.Valid(\n",
    "    value=True,\n",
    ")"
   ]
  },
  {
   "cell_type": "markdown",
   "metadata": {
    "deletable": true,
    "editable": true,
    "slideshow": {
     "slide_type": "slide"
    }
   },
   "source": [
    "## Selection widgets"
   ]
  },
  {
   "cell_type": "markdown",
   "metadata": {
    "deletable": true,
    "editable": true
   },
   "source": [
    "There are four widgets that can be used to display single selection lists, and one that can be used to display multiple selection lists.  All inherit from the same base class.  You can specify the **enumeration of selectable options by passing a list**.  You can **also specify the enumeration as a dictionary**, in which case the **keys will be used as the item displayed** in the list and the corresponding **value will be returned** when an item is selected."
   ]
  },
  {
   "cell_type": "markdown",
   "metadata": {
    "deletable": true,
    "editable": true,
    "slideshow": {
     "slide_type": "slide"
    }
   },
   "source": [
    "### Dropdown"
   ]
  },
  {
   "cell_type": "code",
   "execution_count": null,
   "metadata": {
    "collapsed": false,
    "deletable": true,
    "editable": true
   },
   "outputs": [],
   "source": [
    "from IPython.display import display\n",
    "w = widgets.Dropdown(\n",
    "    options=['1', '2', '3'],\n",
    "    value='2',\n",
    "    description='Number:',\n",
    ")\n",
    "display(w)"
   ]
  },
  {
   "cell_type": "code",
   "execution_count": null,
   "metadata": {
    "collapsed": false,
    "deletable": true,
    "editable": true
   },
   "outputs": [],
   "source": [
    "w.value"
   ]
  },
  {
   "cell_type": "markdown",
   "metadata": {
    "deletable": true,
    "editable": true
   },
   "source": [
    "The following is also valid:"
   ]
  },
  {
   "cell_type": "code",
   "execution_count": null,
   "metadata": {
    "collapsed": false,
    "deletable": true,
    "editable": true
   },
   "outputs": [],
   "source": [
    "w = widgets.Dropdown(\n",
    "    options={'One': 1, 'Two': 2, 'Three': 3},\n",
    "    value=2,\n",
    "    description='Number:',\n",
    ")\n",
    "display(w)"
   ]
  },
  {
   "cell_type": "code",
   "execution_count": null,
   "metadata": {
    "collapsed": false,
    "deletable": true,
    "editable": true
   },
   "outputs": [],
   "source": [
    "w.value"
   ]
  },
  {
   "cell_type": "markdown",
   "metadata": {
    "deletable": true,
    "editable": true
   },
   "source": [
    "Furthermore, if a dropdown contains too man items, a scrollbar is automatically added."
   ]
  },
  {
   "cell_type": "code",
   "execution_count": null,
   "metadata": {
    "collapsed": false,
    "deletable": true,
    "editable": true
   },
   "outputs": [],
   "source": [
    "from IPython.display import display\n",
    "w = widgets.Dropdown(\n",
    "    options=['1', '2', '3', '4', '5', '6', '7', '8', '9'],\n",
    "    value='2',\n",
    "    description='Number:',\n",
    ")\n",
    "display(w)"
   ]
  },
  {
   "cell_type": "code",
   "execution_count": null,
   "metadata": {
    "collapsed": false,
    "deletable": true,
    "editable": true,
    "scrolled": true
   },
   "outputs": [],
   "source": [
    "w.value"
   ]
  },
  {
   "cell_type": "markdown",
   "metadata": {
    "deletable": true,
    "editable": true
   },
   "source": [
    "The following is also valid:"
   ]
  },
  {
   "cell_type": "code",
   "execution_count": null,
   "metadata": {
    "collapsed": false,
    "deletable": true,
    "editable": true
   },
   "outputs": [],
   "source": [
    "w = widgets.Dropdown(\n",
    "    options={'One': 1, 'Two': 2, 'Three': 3,\n",
    "            'Four': 4, 'Five': '5', 'Six': 6,\n",
    "            'Seven': 7, 'Eight': 8, 'Nine': 9},\n",
    "    value=2,\n",
    "    description='Number:',\n",
    ")\n",
    "display(w)"
   ]
  },
  {
   "cell_type": "code",
   "execution_count": null,
   "metadata": {
    "collapsed": false,
    "deletable": true,
    "editable": true
   },
   "outputs": [],
   "source": [
    "w.value"
   ]
  },
  {
   "cell_type": "markdown",
   "metadata": {
    "deletable": true,
    "editable": true,
    "slideshow": {
     "slide_type": "slide"
    }
   },
   "source": [
    "### RadioButtons"
   ]
  },
  {
   "cell_type": "code",
   "execution_count": null,
   "metadata": {
    "collapsed": false,
    "deletable": true,
    "editable": true
   },
   "outputs": [],
   "source": [
    "widgets.RadioButtons(\n",
    "    description='Pizza topping:',\n",
    "    options=['pepperoni', 'pineapple', 'anchovies'],\n",
    ")"
   ]
  },
  {
   "cell_type": "markdown",
   "metadata": {
    "deletable": true,
    "editable": true,
    "slideshow": {
     "slide_type": "slide"
    }
   },
   "source": [
    "### Select"
   ]
  },
  {
   "cell_type": "code",
   "execution_count": null,
   "metadata": {
    "collapsed": false,
    "deletable": true,
    "editable": true
   },
   "outputs": [],
   "source": [
    "widgets.Select(\n",
    "    description='OS:',\n",
    "    options=['Linux', 'Windows', 'OSX'],\n",
    ")"
   ]
  },
  {
   "cell_type": "markdown",
   "metadata": {
    "deletable": true,
    "editable": true
   },
   "source": [
    "### SelectionSlider"
   ]
  },
  {
   "cell_type": "code",
   "execution_count": null,
   "metadata": {
    "collapsed": false,
    "deletable": true,
    "editable": true
   },
   "outputs": [],
   "source": [
    "widgets.SelectionSlider(\n",
    "    description='I like my eggs ...',\n",
    "    options=['scrambled', 'sunny side up', 'poached', 'over easy'],\n",
    ")"
   ]
  },
  {
   "cell_type": "markdown",
   "metadata": {
    "deletable": true,
    "editable": true,
    "slideshow": {
     "slide_type": "slide"
    }
   },
   "source": [
    "### ToggleButtons"
   ]
  },
  {
   "cell_type": "code",
   "execution_count": null,
   "metadata": {
    "collapsed": false,
    "deletable": true,
    "editable": true
   },
   "outputs": [],
   "source": [
    "widgets.ToggleButtons(\n",
    "    description='Speed:',\n",
    "    options=['Slow', 'Regular', 'Fast'],\n",
    ")"
   ]
  },
  {
   "cell_type": "markdown",
   "metadata": {
    "deletable": true,
    "editable": true
   },
   "source": [
    "### SelectMultiple\n",
    "Multiple values can be selected with <kbd>shift</kbd> and/or <kbd>ctrl</kbd> (or <kbd>command</kbd>) pressed and mouse clicks or arrow keys."
   ]
  },
  {
   "cell_type": "code",
   "execution_count": null,
   "metadata": {
    "collapsed": false,
    "deletable": true,
    "editable": true
   },
   "outputs": [],
   "source": [
    "w = widgets.SelectMultiple(\n",
    "    description=\"Fruits\",\n",
    "    options=['Apples', 'Oranges', 'Pears']\n",
    ")\n",
    "display(w)"
   ]
  },
  {
   "cell_type": "code",
   "execution_count": null,
   "metadata": {
    "collapsed": false,
    "deletable": true,
    "editable": true
   },
   "outputs": [],
   "source": [
    "w.value"
   ]
  },
  {
   "cell_type": "markdown",
   "metadata": {
    "deletable": true,
    "editable": true,
    "slideshow": {
     "slide_type": "slide"
    }
   },
   "source": [
    "## String widgets"
   ]
  },
  {
   "cell_type": "markdown",
   "metadata": {
    "deletable": true,
    "editable": true
   },
   "source": [
    "There are 4 widgets that can be used to display a string value.  Of those, the `Text` and `Textarea` widgets accept input.  The `Label` and `HTML` widgets display the string as either Label or HTML respectively, but do not accept input."
   ]
  },
  {
   "cell_type": "markdown",
   "metadata": {
    "deletable": true,
    "editable": true,
    "slideshow": {
     "slide_type": "slide"
    }
   },
   "source": [
    "### Text"
   ]
  },
  {
   "cell_type": "code",
   "execution_count": null,
   "metadata": {
    "collapsed": false,
    "deletable": true,
    "editable": true
   },
   "outputs": [],
   "source": [
    "widgets.Text(\n",
    "    description='String:',\n",
    "    value='Hello World',\n",
    ")"
   ]
  },
  {
   "cell_type": "markdown",
   "metadata": {
    "deletable": true,
    "editable": true
   },
   "source": [
    "### Textarea"
   ]
  },
  {
   "cell_type": "code",
   "execution_count": null,
   "metadata": {
    "collapsed": false,
    "deletable": true,
    "editable": true
   },
   "outputs": [],
   "source": [
    "widgets.Textarea(\n",
    "    description='String:',\n",
    "    value='Hello World',\n",
    ")"
   ]
  },
  {
   "cell_type": "markdown",
   "metadata": {
    "deletable": true,
    "editable": true,
    "slideshow": {
     "slide_type": "slide"
    }
   },
   "source": [
    "### Label"
   ]
  },
  {
   "cell_type": "code",
   "execution_count": null,
   "metadata": {
    "collapsed": false,
    "deletable": true,
    "editable": true
   },
   "outputs": [],
   "source": [
    "widgets.Label(\n",
    "    value=\"$$\\\\frac{n!}{k!(n-k)!} = \\\\binom{n}{k}$$\",\n",
    ")"
   ]
  },
  {
   "cell_type": "markdown",
   "metadata": {
    "deletable": true,
    "editable": true
   },
   "source": [
    "### HTML"
   ]
  },
  {
   "cell_type": "code",
   "execution_count": null,
   "metadata": {
    "collapsed": false,
    "deletable": true,
    "editable": true
   },
   "outputs": [],
   "source": [
    "widgets.HTML(\n",
    "    value=\"Hello <b>World</b>\"\n",
    ")"
   ]
  },
  {
   "cell_type": "markdown",
   "metadata": {
    "deletable": true,
    "editable": true,
    "slideshow": {
     "slide_type": "slide"
    }
   },
   "source": [
    "## Button"
   ]
  },
  {
   "cell_type": "code",
   "execution_count": null,
   "metadata": {
    "collapsed": false,
    "deletable": true,
    "editable": true
   },
   "outputs": [],
   "source": [
    "widgets.Button(description='Click me')"
   ]
  },
  {
   "cell_type": "markdown",
   "metadata": {
    "deletable": true,
    "editable": true
   },
   "source": [
    "## Animation widget"
   ]
  },
  {
   "cell_type": "markdown",
   "metadata": {
    "deletable": true,
    "editable": true
   },
   "source": [
    "The `Play` widget is useful to perform animations by iterating on a sequence of integers with a certain speed."
   ]
  },
  {
   "cell_type": "code",
   "execution_count": null,
   "metadata": {
    "collapsed": false,
    "deletable": true,
    "editable": true
   },
   "outputs": [],
   "source": [
    "play = widgets.Play()\n",
    "slider = widgets.IntSlider()\n",
    "widgets.jslink((play, 'value'), (slider, 'value'))\n",
    "widgets.HBox([play, slider])"
   ]
  },
  {
   "cell_type": "markdown",
   "metadata": {
    "deletable": true,
    "editable": true
   },
   "source": [
    "[Index](Index.ipynb) - [Back](Widget Basics.ipynb) - [Next](Widget Events.ipynb)"
   ]
  }
 ],
 "metadata": {
  "kernelspec": {
   "display_name": "Python 3",
   "language": "python",
   "name": "python3"
  },
  "language_info": {
   "codemirror_mode": {
    "name": "ipython",
    "version": 3
   },
   "file_extension": ".py",
   "mimetype": "text/x-python",
   "name": "python",
   "nbconvert_exporter": "python",
   "pygments_lexer": "ipython3",
   "version": "3.6.0"
  },
  "widgets": {
   "state": {
    "03e2887734ce440fb36aa7972de64122": {
     "views": [
      {
       "cell_index": 57
      }
     ]
    },
    "046457f8819f43939c9c90e45bae6963": {
     "views": []
    },
    "0a46cae54abd41dfb3c6d7dea6628ca9": {
     "views": []
    },
    "0a6920c1d88b468699c3807e76b57cd2": {
     "views": []
    },
    "0e86a873e20148be9101fe8065a5304e": {
     "views": []
    },
    "100bf223d1164bc99fff5abfde2c6125": {
     "views": []
    },
    "10b9efdd0c4e4182bd01d74b0b474d47": {
     "views": [
      {
       "cell_index": 64
      }
     ]
    },
    "12f17e8bc7b34d35834d6efb15f9872d": {
     "views": [
      {
       "cell_index": 28
      }
     ]
    },
    "159f2ef118e04ea3becc4863d2feadd2": {
     "views": [
      {
       "cell_index": 44
      }
     ]
    },
    "1777a91508f44c6b959f4a1a456bd6ea": {
     "views": []
    },
    "186adcea58d948318e437ad396ecee90": {
     "views": []
    },
    "1b8506c6b1d94d7895821353202c0646": {
     "views": []
    },
    "1d85db653ccd45a298710869a2868f5f": {
     "views": [
      {
       "cell_index": 16
      }
     ]
    },
    "1e6d5c87458f42ce83d825c4d1a56d6d": {
     "views": []
    },
    "1eea48fc1ce94aaa84ec3a8d375a09bc": {
     "views": []
    },
    "1fbe72211d304b3da7590838bc5a17da": {
     "views": [
      {
       "cell_index": 55
      }
     ]
    },
    "22e573b176b74ffd8757bf4cd26bb54b": {
     "views": []
    },
    "29588073748e43eaab4ca3a5555cdace": {
     "views": []
    },
    "303e9cb600b7475a8815f7f67c130166": {
     "views": []
    },
    "3176237965fe4bbcb7c9404e58f81187": {
     "views": [
      {
       "cell_index": 48
      }
     ]
    },
    "34352740ac0943f4a0ff1a654eca13a2": {
     "views": [
      {
       "cell_index": 46
      }
     ]
    },
    "36c1d253551d42a5af392b0ee4521917": {
     "views": []
    },
    "377df56fa7f94a498b1dfb101b297f30": {
     "views": []
    },
    "3a9122f59ecd4210accce05d32b538dd": {
     "views": []
    },
    "3b18e848e1a140d4baca162fac070b9f": {
     "views": [
      {
       "cell_index": 37
      }
     ]
    },
    "3c7a518fbcbf44df83dffa6f9347a2a5": {
     "views": [
      {
       "cell_index": 20
      }
     ]
    },
    "3d0d913b06264501a948a1e61bd88e08": {
     "views": []
    },
    "3ee281f69eaf46abae70fb4554d5b3e8": {
     "views": []
    },
    "3fa0d0c979524e4f8885d1b8aa29b55b": {
     "views": []
    },
    "44175e97da864d58a3f16e94145c71a1": {
     "views": [
      {
       "cell_index": 61
      }
     ]
    },
    "452c029be64a48878503c8a864f437ec": {
     "views": []
    },
    "4556fc14ca4949e1b296d82733076c38": {
     "views": []
    },
    "49ea6cccef394e278980bf9eedbca90b": {
     "views": [
      {
       "cell_index": 24
      }
     ]
    },
    "4b2637adc22d4455a3b7448aa515cf2b": {
     "views": []
    },
    "4bbd04b7514549458e4475dee2232ec1": {
     "views": []
    },
    "4e50f4e07c494165b3d57c2d6e6fca5c": {
     "views": []
    },
    "511b4dc62f40495fa1d202369931bded": {
     "views": []
    },
    "58e2c198e8c14269b32f578893e55612": {
     "views": [
      {
       "cell_index": 22
      }
     ]
    },
    "5c71839f76924b1398427f7abe94cca6": {
     "views": []
    },
    "5fd512856233474a8224aacd87a67cee": {
     "views": [
      {
       "cell_index": 53
      }
     ]
    },
    "6252ea73c973455482e33d0d7adb24ae": {
     "views": []
    },
    "6431de9c4eb943a4bfb78b15b1b6131e": {
     "views": []
    },
    "651723024b0f45129fcd96b4d0a2de29": {
     "views": []
    },
    "67e0d27f190149bb8b37a87ab15539fc": {
     "views": []
    },
    "69d72f534bc143c5a9861614ff27a544": {
     "views": []
    },
    "6a24bc1202f6485881c655352e57af6b": {
     "views": []
    },
    "6e217465aaf547f4a097c97392fcd222": {
     "views": []
    },
    "71959d0a05b34ad48f0842c879942fd6": {
     "views": []
    },
    "73c9e23f69db4de08619a6ab83430f74": {
     "views": []
    },
    "7b74a787ba324ab79b750c7dccbb7960": {
     "views": []
    },
    "7b974f24cd3a4ab597f41016e907327a": {
     "views": []
    },
    "81d32972b99444dda890e89f093c40d1": {
     "views": []
    },
    "8206c8ac825f4a29b62696698936101d": {
     "views": [
      {
       "cell_index": 34
      }
     ]
    },
    "831101aa77cd465a9632414c59259222": {
     "views": []
    },
    "88aafe2ed21945a0989ba400d958793c": {
     "views": []
    },
    "89fc4285f6194010918ce45c77fa9866": {
     "views": []
    },
    "91ad38c80a8a402d97d389278d20f860": {
     "views": [
      {
       "cell_index": 14
      }
     ]
    },
    "92587d7840594bd3931523abafc78505": {
     "views": []
    },
    "9531c94fd96b4d06a1d858bc80631bb1": {
     "views": []
    },
    "961bc0f6ece1420e89901cbef00e2098": {
     "views": []
    },
    "98464dee32294d09ac86c86853a5bf30": {
     "views": []
    },
    "9a042e93b39d4ce0ab42753b78cf520b": {
     "views": []
    },
    "9b9d3543c85947939106b1d0b9331f2e": {
     "views": [
      {
       "cell_index": 8
      }
     ]
    },
    "a13a8b057d0a45d4aac99e0ec42cd8a1": {
     "views": []
    },
    "a15125a9435b40bc8834b854f6aaa555": {
     "views": []
    },
    "a3cea0cc93454621999d77b114a8711d": {
     "views": []
    },
    "a3e4902b076a43a1aff87ad3640f0f24": {
     "views": []
    },
    "a3ef65db7a274e7a9453360ef01346c4": {
     "views": []
    },
    "a64b31cd05154db2874794ae609b3c19": {
     "views": []
    },
    "a6eb2603add14bada3d973bed001a7b2": {
     "views": []
    },
    "a7e9d5a89a724343abd188cc473a5abb": {
     "views": []
    },
    "a9923bcff8544e848a171001afeb35e7": {
     "views": [
      {
       "cell_index": 10
      }
     ]
    },
    "ae1244aa47224387ae5620b5faba1b26": {
     "views": []
    },
    "b05de3f1d99340ccb1e34a759bc693a3": {
     "views": []
    },
    "b1fa0276d0134fae9065bd666562c710": {
     "views": []
    },
    "b4dd9b5f308e4a33ab072f7da244770f": {
     "views": []
    },
    "b66b2df0354e45b3ac402d72f0661772": {
     "views": []
    },
    "b784dec5be6c4186ae49e7e949f0dcbd": {
     "views": []
    },
    "b7cf4979c39643e8a6ee5d2f03a20009": {
     "views": []
    },
    "bbdada13051745fdad3099e2e66e9dc5": {
     "views": []
    },
    "bfe49187834f442fb5ce6cbee09409ff": {
     "views": []
    },
    "c195960c35114f06a02e0558b6f4769c": {
     "views": []
    },
    "ca4d4620de824538bacbd3e1a87d9e5a": {
     "views": []
    },
    "cce51064a40d434a9b64720074c87c4b": {
     "views": []
    },
    "d872204a34494cb5a6b6787687ce7066": {
     "views": []
    },
    "d91cf799da5f474c9f8b0c53de999a87": {
     "views": []
    },
    "da3ddd23f1054d87842a1eae15d81190": {
     "views": []
    },
    "db89008ea48447ccb67074a8380773fe": {
     "views": [
      {
       "cell_index": 59
      }
     ]
    },
    "e0362678a73d49419ae9c4b720c91c37": {
     "views": [
      {
       "cell_index": 12
      }
     ]
    },
    "e155607d29a74d228291b68f666094df": {
     "views": []
    },
    "e4384f6afc684d5c9cb7f1db2c59356c": {
     "views": [
      {
       "cell_index": 42
      }
     ]
    },
    "e8050ae4037c4364902324f52eda20eb": {
     "views": [
      {
       "cell_index": 31
      }
     ]
    },
    "eb607823a2ba4be68e6e68869e2025d1": {
     "views": [
      {
       "cell_index": 40
      }
     ]
    },
    "eda2bc2bd44c4612902ffae15f4ee28c": {
     "views": []
    },
    "f1853438d8ba471694348ef121b8b470": {
     "views": []
    },
    "f1a339a908c24351a2103d2701bc41fd": {
     "views": []
    },
    "f5676bd77aa84c118336dd229810b644": {
     "views": []
    },
    "f82214603771432ebd7372384649fa26": {
     "views": []
    },
    "fadd38eb135543ef8a3fcc6f795a3560": {
     "views": []
    },
    "fbdc4751f34d4b6fa964c9f0a8003500": {
     "views": []
    },
    "fc57fce92f224759b890a62a74d45209": {
     "views": []
    },
    "feb5ccb62ffb485b995ca4369d55ddc6": {
     "views": []
    }
   },
   "version": "2.0.0-dev"
  }
 },
 "nbformat": 4,
 "nbformat_minor": 1
}
